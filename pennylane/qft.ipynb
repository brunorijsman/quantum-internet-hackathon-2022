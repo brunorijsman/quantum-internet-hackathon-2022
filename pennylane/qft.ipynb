{
 "cells": [
  {
   "cell_type": "code",
   "execution_count": 1,
   "id": "c339c569-818f-4d5f-b65b-5cdcb9c22d56",
   "metadata": {},
   "outputs": [
    {
     "ename": "DeviceError",
     "evalue": "The analytic argument has been replaced by shots=None. Please use shots=None instead of analytic=True.",
     "output_type": "error",
     "traceback": [
      "\u001b[0;31m---------------------------------------------------------------------------\u001b[0m",
      "\u001b[0;31mDeviceError\u001b[0m                               Traceback (most recent call last)",
      "Cell \u001b[0;32mIn[1], line 5\u001b[0m\n\u001b[1;32m      2\u001b[0m \u001b[39mfrom\u001b[39;00m \u001b[39mpennylane\u001b[39;00m \u001b[39mimport\u001b[39;00m numpy \u001b[39mas\u001b[39;00m np\n\u001b[1;32m      4\u001b[0m n_register \u001b[39m=\u001b[39m \u001b[39m3\u001b[39m\n\u001b[0;32m----> 5\u001b[0m dev \u001b[39m=\u001b[39m qml\u001b[39m.\u001b[39;49mdevice(\u001b[39m'\u001b[39;49m\u001b[39mdefault.qubit\u001b[39;49m\u001b[39m'\u001b[39;49m, wires\u001b[39m=\u001b[39;49m(n_register), analytic\u001b[39m=\u001b[39;49m\u001b[39mTrue\u001b[39;49;00m)\n\u001b[1;32m      6\u001b[0m \u001b[39mdef\u001b[39;00m \u001b[39mqft_rotations\u001b[39m(n\u001b[39m=\u001b[39m\u001b[39m0\u001b[39m):\n\u001b[1;32m      7\u001b[0m     \u001b[39m\"\"\"Performs qft on the first n qubits in circuit (without swaps)\"\"\"\u001b[39;00m\n",
      "File \u001b[0;32m~/git-personal/quantum-internet-hackathon-2022/venv/lib/python3.8/site-packages/pennylane/__init__.py:324\u001b[0m, in \u001b[0;36mdevice\u001b[0;34m(name, *args, **kwargs)\u001b[0m\n\u001b[1;32m    318\u001b[0m     \u001b[39mraise\u001b[39;00m DeviceError(\n\u001b[1;32m    319\u001b[0m         \u001b[39mf\u001b[39m\u001b[39m\"\u001b[39m\u001b[39mThe \u001b[39m\u001b[39m{\u001b[39;00mname\u001b[39m}\u001b[39;00m\u001b[39m plugin requires PennyLane versions \u001b[39m\u001b[39m{\u001b[39;00mplugin_device_class\u001b[39m.\u001b[39mpennylane_requires\u001b[39m}\u001b[39;00m\u001b[39m, \u001b[39m\u001b[39m\"\u001b[39m\n\u001b[1;32m    320\u001b[0m         \u001b[39mf\u001b[39m\u001b[39m\"\u001b[39m\u001b[39mhowever PennyLane version \u001b[39m\u001b[39m{\u001b[39;00m__version__\u001b[39m}\u001b[39;00m\u001b[39m is installed.\u001b[39m\u001b[39m\"\u001b[39m\n\u001b[1;32m    321\u001b[0m     )\n\u001b[1;32m    323\u001b[0m \u001b[39m# Construct the device\u001b[39;00m\n\u001b[0;32m--> 324\u001b[0m dev \u001b[39m=\u001b[39m plugin_device_class(\u001b[39m*\u001b[39;49margs, \u001b[39m*\u001b[39;49m\u001b[39m*\u001b[39;49moptions)\n\u001b[1;32m    326\u001b[0m \u001b[39m# Once the device is constructed, we set its custom expansion function if\u001b[39;00m\n\u001b[1;32m    327\u001b[0m \u001b[39m# any custom decompositions were specified.\u001b[39;00m\n\u001b[1;32m    328\u001b[0m \u001b[39mif\u001b[39;00m custom_decomps \u001b[39mis\u001b[39;00m \u001b[39mnot\u001b[39;00m \u001b[39mNone\u001b[39;00m:\n",
      "File \u001b[0;32m~/git-personal/quantum-internet-hackathon-2022/venv/lib/python3.8/site-packages/pennylane/devices/default_qubit.py:170\u001b[0m, in \u001b[0;36mDefaultQubit.__init__\u001b[0;34m(self, wires, r_dtype, c_dtype, shots, analytic)\u001b[0m\n\u001b[1;32m    167\u001b[0m \u001b[39mdef\u001b[39;00m \u001b[39m__init__\u001b[39m(\n\u001b[1;32m    168\u001b[0m     \u001b[39mself\u001b[39m, wires, \u001b[39m*\u001b[39m, r_dtype\u001b[39m=\u001b[39mnp\u001b[39m.\u001b[39mfloat64, c_dtype\u001b[39m=\u001b[39mnp\u001b[39m.\u001b[39mcomplex128, shots\u001b[39m=\u001b[39m\u001b[39mNone\u001b[39;00m, analytic\u001b[39m=\u001b[39m\u001b[39mNone\u001b[39;00m\n\u001b[1;32m    169\u001b[0m ):\n\u001b[0;32m--> 170\u001b[0m     \u001b[39msuper\u001b[39;49m()\u001b[39m.\u001b[39;49m\u001b[39m__init__\u001b[39;49m(wires, shots, r_dtype\u001b[39m=\u001b[39;49mr_dtype, c_dtype\u001b[39m=\u001b[39;49mc_dtype, analytic\u001b[39m=\u001b[39;49manalytic)\n\u001b[1;32m    171\u001b[0m     \u001b[39mself\u001b[39m\u001b[39m.\u001b[39m_debugger \u001b[39m=\u001b[39m \u001b[39mNone\u001b[39;00m\n\u001b[1;32m    173\u001b[0m     \u001b[39m# Create the initial state. Internally, we store the\u001b[39;00m\n\u001b[1;32m    174\u001b[0m     \u001b[39m# state as an array of dimension [2]*wires.\u001b[39;00m\n",
      "File \u001b[0;32m~/git-personal/quantum-internet-hackathon-2022/venv/lib/python3.8/site-packages/pennylane/_qubit_device.py:204\u001b[0m, in \u001b[0;36mQubitDevice.__init__\u001b[0;34m(self, wires, shots, r_dtype, c_dtype, analytic)\u001b[0m\n\u001b[1;32m    201\u001b[0m \u001b[39mdef\u001b[39;00m \u001b[39m__init__\u001b[39m(\n\u001b[1;32m    202\u001b[0m     \u001b[39mself\u001b[39m, wires\u001b[39m=\u001b[39m\u001b[39m1\u001b[39m, shots\u001b[39m=\u001b[39m\u001b[39mNone\u001b[39;00m, \u001b[39m*\u001b[39m, r_dtype\u001b[39m=\u001b[39mnp\u001b[39m.\u001b[39mfloat64, c_dtype\u001b[39m=\u001b[39mnp\u001b[39m.\u001b[39mcomplex128, analytic\u001b[39m=\u001b[39m\u001b[39mNone\u001b[39;00m\n\u001b[1;32m    203\u001b[0m ):\n\u001b[0;32m--> 204\u001b[0m     \u001b[39msuper\u001b[39;49m()\u001b[39m.\u001b[39;49m\u001b[39m__init__\u001b[39;49m(wires\u001b[39m=\u001b[39;49mwires, shots\u001b[39m=\u001b[39;49mshots, analytic\u001b[39m=\u001b[39;49manalytic)\n\u001b[1;32m    206\u001b[0m     \u001b[39mif\u001b[39;00m \u001b[39m\"\u001b[39m\u001b[39mfloat\u001b[39m\u001b[39m\"\u001b[39m \u001b[39mnot\u001b[39;00m \u001b[39min\u001b[39;00m \u001b[39mstr\u001b[39m(r_dtype):\n\u001b[1;32m    207\u001b[0m         \u001b[39mraise\u001b[39;00m DeviceError(\u001b[39m\"\u001b[39m\u001b[39mReal datatype must be a floating point type.\u001b[39m\u001b[39m\"\u001b[39m)\n",
      "File \u001b[0;32m~/git-personal/quantum-internet-hackathon-2022/venv/lib/python3.8/site-packages/pennylane/_device.py:142\u001b[0m, in \u001b[0;36mDevice.__init__\u001b[0;34m(self, wires, shots, analytic)\u001b[0m\n\u001b[1;32m    140\u001b[0m     msg \u001b[39m=\u001b[39m \u001b[39m\"\u001b[39m\u001b[39mThe analytic argument has been replaced by shots=None. \u001b[39m\u001b[39m\"\u001b[39m\n\u001b[1;32m    141\u001b[0m     msg \u001b[39m+\u001b[39m\u001b[39m=\u001b[39m \u001b[39m\"\u001b[39m\u001b[39mPlease use shots=None instead of analytic=True.\u001b[39m\u001b[39m\"\u001b[39m\n\u001b[0;32m--> 142\u001b[0m     \u001b[39mraise\u001b[39;00m DeviceError(msg)\n\u001b[1;32m    144\u001b[0m \u001b[39mif\u001b[39;00m \u001b[39mnot\u001b[39;00m \u001b[39misinstance\u001b[39m(wires, Iterable):\n\u001b[1;32m    145\u001b[0m     \u001b[39m# interpret wires as the number of consecutive wires\u001b[39;00m\n\u001b[1;32m    146\u001b[0m     wires \u001b[39m=\u001b[39m \u001b[39mrange\u001b[39m(wires)\n",
      "\u001b[0;31mDeviceError\u001b[0m: The analytic argument has been replaced by shots=None. Please use shots=None instead of analytic=True."
     ]
    }
   ],
   "source": [
    "import pennylane as qml\n",
    "from pennylane import numpy as np\n",
    "\n",
    "n_register = 3\n",
    "dev = qml.device('default.qubit', wires=(n_register), shots=None)\n",
    "def qft_rotations(n=0):\n",
    "    \"\"\"Performs qft on the first n qubits in circuit (without swaps)\"\"\"\n",
    "    n = int(n)\n",
    "    if n == 0:\n",
    "        return\n",
    "    n -= 1\n",
    "    qml.Hadamard(wires=n)\n",
    "    for qubit in range(n):\n",
    "        qml.CRZ(np.pi/2**(n-qubit), wires=[qubit, n])\n",
    "    qft_rotations(n=n)\n",
    "\n",
    "def swap_registers(n):\n",
    "    for qubit in range(n//2):\n",
    "        qml.SWAP(wires = [qubit, n-qubit-1])\n",
    "\n",
    "def qft(n=0):\n",
    "    \"\"\"QFT on the first n qubits in circuit\"\"\"\n",
    "    qft_rotations(n=n)\n",
    "    swap_registers(n=n)\n",
    "    return qml.probs(wires=[0, 1, 2])\n",
    "\n",
    "circuit = qml.QNode(qft, dev)\n",
    "circuit(n=3)\n",
    "print(circuit.draw())\n",
    "\n",
    "circuit(n=3)\n",
    "print(qml.Hadamard(wires=[0]).diagonalizing_gates())\n",
    "\n",
    "[RY(-0.7853981633974483, wires=[0])]"
   ]
  },
  {
   "cell_type": "code",
   "execution_count": null,
   "id": "00f78f76-346a-4150-8b1e-16e22d1a12af",
   "metadata": {},
   "outputs": [],
   "source": [
    ">>> from pennylane.fourier.visualize import *\n",
    ">>> import matplotlib.pyplot as plt"
   ]
  },
  {
   "cell_type": "code",
   "execution_count": null,
   "id": "5a25e2ca-f285-4e8b-8e3d-1c1fada736fb",
   "metadata": {},
   "outputs": [
    {
     "ename": "NameError",
     "evalue": "name 'add_k_fourier' is not defined",
     "output_type": "error",
     "traceback": [
      "\u001b[0;31m---------------------------------------------------------------------------\u001b[0m",
      "\u001b[0;31mNameError\u001b[0m                                 Traceback (most recent call last)",
      "\u001b[0;32m/tmp/ipykernel_102/2377109676.py\u001b[0m in \u001b[0;36m<cell line: 35>\u001b[0;34m()\u001b[0m\n\u001b[1;32m     34\u001b[0m \u001b[0;34m\u001b[0m\u001b[0m\n\u001b[1;32m     35\u001b[0m print(f\"The ket representation of the sum of 7 and 3 is \"\n\u001b[0;32m---> 36\u001b[0;31m       f\"{sum2(7, 3, wires_m, wires_k, wires_solution)}\")\n\u001b[0m\u001b[1;32m     37\u001b[0m \u001b[0;34m\u001b[0m\u001b[0m\n\u001b[1;32m     38\u001b[0m \u001b[0mqml\u001b[0m\u001b[0;34m.\u001b[0m\u001b[0mdraw_mpl\u001b[0m\u001b[0;34m(\u001b[0m\u001b[0msum2\u001b[0m\u001b[0;34m,\u001b[0m \u001b[0mshow_all_wires\u001b[0m\u001b[0;34m=\u001b[0m\u001b[0;32mTrue\u001b[0m\u001b[0;34m)\u001b[0m\u001b[0;34m(\u001b[0m\u001b[0;36m7\u001b[0m\u001b[0;34m,\u001b[0m \u001b[0;36m3\u001b[0m\u001b[0;34m,\u001b[0m \u001b[0mwires_m\u001b[0m\u001b[0;34m,\u001b[0m \u001b[0mwires_k\u001b[0m\u001b[0;34m,\u001b[0m \u001b[0mwires_solution\u001b[0m\u001b[0;34m)\u001b[0m\u001b[0;34m\u001b[0m\u001b[0;34m\u001b[0m\u001b[0m\n",
      "\u001b[0;32m/opt/conda/envs/pennylane/lib/python3.9/site-packages/pennylane/qnode.py\u001b[0m in \u001b[0;36m__call__\u001b[0;34m(self, *args, **kwargs)\u001b[0m\n\u001b[1;32m    609\u001b[0m \u001b[0;34m\u001b[0m\u001b[0m\n\u001b[1;32m    610\u001b[0m         \u001b[0;31m# construct the tape\u001b[0m\u001b[0;34m\u001b[0m\u001b[0;34m\u001b[0m\u001b[0m\n\u001b[0;32m--> 611\u001b[0;31m         \u001b[0mself\u001b[0m\u001b[0;34m.\u001b[0m\u001b[0mconstruct\u001b[0m\u001b[0;34m(\u001b[0m\u001b[0margs\u001b[0m\u001b[0;34m,\u001b[0m \u001b[0mkwargs\u001b[0m\u001b[0;34m)\u001b[0m\u001b[0;34m\u001b[0m\u001b[0;34m\u001b[0m\u001b[0m\n\u001b[0m\u001b[1;32m    612\u001b[0m \u001b[0;34m\u001b[0m\u001b[0m\n\u001b[1;32m    613\u001b[0m         \u001b[0mcache\u001b[0m \u001b[0;34m=\u001b[0m \u001b[0mself\u001b[0m\u001b[0;34m.\u001b[0m\u001b[0mexecute_kwargs\u001b[0m\u001b[0;34m.\u001b[0m\u001b[0mget\u001b[0m\u001b[0;34m(\u001b[0m\u001b[0;34m\"cache\"\u001b[0m\u001b[0;34m,\u001b[0m \u001b[0;32mFalse\u001b[0m\u001b[0;34m)\u001b[0m\u001b[0;34m\u001b[0m\u001b[0;34m\u001b[0m\u001b[0m\n",
      "\u001b[0;32m/opt/conda/envs/pennylane/lib/python3.9/site-packages/pennylane/qnode.py\u001b[0m in \u001b[0;36mconstruct\u001b[0;34m(self, args, kwargs)\u001b[0m\n\u001b[1;32m    524\u001b[0m \u001b[0;34m\u001b[0m\u001b[0m\n\u001b[1;32m    525\u001b[0m         \u001b[0;32mwith\u001b[0m \u001b[0mself\u001b[0m\u001b[0;34m.\u001b[0m\u001b[0mtape\u001b[0m\u001b[0;34m:\u001b[0m\u001b[0;34m\u001b[0m\u001b[0;34m\u001b[0m\u001b[0m\n\u001b[0;32m--> 526\u001b[0;31m             \u001b[0mself\u001b[0m\u001b[0;34m.\u001b[0m\u001b[0m_qfunc_output\u001b[0m \u001b[0;34m=\u001b[0m \u001b[0mself\u001b[0m\u001b[0;34m.\u001b[0m\u001b[0mfunc\u001b[0m\u001b[0;34m(\u001b[0m\u001b[0;34m*\u001b[0m\u001b[0margs\u001b[0m\u001b[0;34m,\u001b[0m \u001b[0;34m**\u001b[0m\u001b[0mkwargs\u001b[0m\u001b[0;34m)\u001b[0m\u001b[0;34m\u001b[0m\u001b[0;34m\u001b[0m\u001b[0m\n\u001b[0m\u001b[1;32m    527\u001b[0m         \u001b[0mself\u001b[0m\u001b[0;34m.\u001b[0m\u001b[0m_tape\u001b[0m\u001b[0;34m.\u001b[0m\u001b[0m_qfunc_output\u001b[0m \u001b[0;34m=\u001b[0m \u001b[0mself\u001b[0m\u001b[0;34m.\u001b[0m\u001b[0m_qfunc_output\u001b[0m\u001b[0;34m\u001b[0m\u001b[0;34m\u001b[0m\u001b[0m\n\u001b[1;32m    528\u001b[0m \u001b[0;34m\u001b[0m\u001b[0m\n",
      "\u001b[0;32m/tmp/ipykernel_102/2377109676.py\u001b[0m in \u001b[0;36msum2\u001b[0;34m(m, k, wires_m, wires_k, wires_solution)\u001b[0m\n\u001b[1;32m     29\u001b[0m \u001b[0;34m\u001b[0m\u001b[0m\n\u001b[1;32m     30\u001b[0m     \u001b[0;31m# apply the addition circuit\u001b[0m\u001b[0;34m\u001b[0m\u001b[0;34m\u001b[0m\u001b[0m\n\u001b[0;32m---> 31\u001b[0;31m     \u001b[0maddition\u001b[0m\u001b[0;34m(\u001b[0m\u001b[0mwires_m\u001b[0m\u001b[0;34m,\u001b[0m \u001b[0mwires_k\u001b[0m\u001b[0;34m,\u001b[0m \u001b[0mwires_solution\u001b[0m\u001b[0;34m)\u001b[0m\u001b[0;34m\u001b[0m\u001b[0;34m\u001b[0m\u001b[0m\n\u001b[0m\u001b[1;32m     32\u001b[0m \u001b[0;34m\u001b[0m\u001b[0m\n\u001b[1;32m     33\u001b[0m     \u001b[0;32mreturn\u001b[0m \u001b[0mqml\u001b[0m\u001b[0;34m.\u001b[0m\u001b[0msample\u001b[0m\u001b[0;34m(\u001b[0m\u001b[0mwires\u001b[0m\u001b[0;34m=\u001b[0m\u001b[0mwires_solution\u001b[0m\u001b[0;34m)\u001b[0m\u001b[0;34m\u001b[0m\u001b[0;34m\u001b[0m\u001b[0m\n",
      "\u001b[0;32m/tmp/ipykernel_102/2377109676.py\u001b[0m in \u001b[0;36maddition\u001b[0;34m(wires_m, wires_k, wires_sol)\u001b[0m\n\u001b[1;32m     13\u001b[0m     \u001b[0;31m# add m to the counter\u001b[0m\u001b[0;34m\u001b[0m\u001b[0;34m\u001b[0m\u001b[0m\n\u001b[1;32m     14\u001b[0m     \u001b[0;32mfor\u001b[0m \u001b[0mi\u001b[0m \u001b[0;32min\u001b[0m \u001b[0mrange\u001b[0m\u001b[0;34m(\u001b[0m\u001b[0mlen\u001b[0m\u001b[0;34m(\u001b[0m\u001b[0mwires_m\u001b[0m\u001b[0;34m)\u001b[0m\u001b[0;34m)\u001b[0m\u001b[0;34m:\u001b[0m\u001b[0;34m\u001b[0m\u001b[0;34m\u001b[0m\u001b[0m\n\u001b[0;32m---> 15\u001b[0;31m         \u001b[0mqml\u001b[0m\u001b[0;34m.\u001b[0m\u001b[0mctrl\u001b[0m\u001b[0;34m(\u001b[0m\u001b[0madd_k_fourier\u001b[0m\u001b[0;34m,\u001b[0m \u001b[0mcontrol\u001b[0m\u001b[0;34m=\u001b[0m\u001b[0mwires_m\u001b[0m\u001b[0;34m[\u001b[0m\u001b[0mi\u001b[0m\u001b[0;34m]\u001b[0m\u001b[0;34m)\u001b[0m\u001b[0;34m(\u001b[0m\u001b[0;36m2\u001b[0m \u001b[0;34m**\u001b[0m\u001b[0;34m(\u001b[0m\u001b[0mlen\u001b[0m\u001b[0;34m(\u001b[0m\u001b[0mwires_m\u001b[0m\u001b[0;34m)\u001b[0m \u001b[0;34m-\u001b[0m \u001b[0mi\u001b[0m \u001b[0;34m-\u001b[0m \u001b[0;36m1\u001b[0m\u001b[0;34m)\u001b[0m\u001b[0;34m,\u001b[0m \u001b[0mwires_solution\u001b[0m\u001b[0;34m)\u001b[0m\u001b[0;34m\u001b[0m\u001b[0;34m\u001b[0m\u001b[0m\n\u001b[0m\u001b[1;32m     16\u001b[0m \u001b[0;34m\u001b[0m\u001b[0m\n\u001b[1;32m     17\u001b[0m     \u001b[0;31m# add k to the counter\u001b[0m\u001b[0;34m\u001b[0m\u001b[0;34m\u001b[0m\u001b[0m\n",
      "\u001b[0;31mNameError\u001b[0m: name 'add_k_fourier' is not defined"
     ]
    }
   ],
   "source": [
    "wires_m = [0, 1, 2]             # qubits needed to encode m\n",
    "wires_k = [3, 4, 5]             # qubits needed to encode k\n",
    "wires_solution = [6, 7, 8, 9]   # qubits needed to encode the solution\n",
    "\n",
    "dev = qml.device(\"default.qubit\", wires=wires_m + wires_k + wires_solution, shots=1)\n",
    "\n",
    "n_wires = len(dev.wires) # total number of qubits used\n",
    "\n",
    "def addition(wires_m, wires_k, wires_sol):\n",
    "    # prepare solution qubits to counting\n",
    "    qml.QFT(wires=wires_solution)\n",
    "\n",
    "    # add m to the counter\n",
    "    for i in range(len(wires_m)):\n",
    "        qml.ctrl(add_k_fourier, control=wires_m[i])(2 **(len(wires_m) - i - 1), wires_solution)\n",
    "\n",
    "    # add k to the counter\n",
    "    for i in range(len(wires_k)):\n",
    "        qml.ctrl(add_k_fourier, control=wires_k[i])(2 **(len(wires_k) - i - 1), wires_solution)\n",
    "\n",
    "    # return to computational basis\n",
    "    qml.adjoint(qml.QFT)(wires=wires_solution)\n",
    "\n",
    "@qml.qnode(dev)\n",
    "def sum2(m, k, wires_m, wires_k, wires_solution):\n",
    "    # m and k codification\n",
    "    qml.BasisEmbedding(m, wires=wires_m)\n",
    "    qml.BasisEmbedding(k, wires=wires_k)\n",
    "\n",
    "    # apply the addition circuit\n",
    "    addition(wires_m, wires_k, wires_solution)\n",
    "\n",
    "    return qml.sample(wires=wires_solution)\n",
    "\n",
    "print(f\"The ket representation of the sum of 7 and 3 is \"\n",
    "      f\"{sum2(7, 3, wires_m, wires_k, wires_solution)}\")\n",
    "\n",
    "qml.draw_mpl(sum2, show_all_wires=True)(7, 3, wires_m, wires_k, wires_solution)\n",
    "plt.show()\n"
   ]
  },
  {
   "cell_type": "code",
   "execution_count": null,
   "id": "f7f6416e-25a0-478c-b047-9239cb6f32c8",
   "metadata": {},
   "outputs": [
    {
     "ename": "NameError",
     "evalue": "name 'QuantumCircuit' is not defined",
     "output_type": "error",
     "traceback": [
      "\u001b[0;31m---------------------------------------------------------------------------\u001b[0m",
      "\u001b[0;31mNameError\u001b[0m                                 Traceback (most recent call last)",
      "\u001b[0;32m/tmp/ipykernel_102/3350429740.py\u001b[0m in \u001b[0;36m<cell line: 14>\u001b[0;34m()\u001b[0m\n\u001b[1;32m     12\u001b[0m \u001b[0;34m\u001b[0m\u001b[0m\n\u001b[1;32m     13\u001b[0m \u001b[0;31m# Let's see how it looks:\u001b[0m\u001b[0;34m\u001b[0m\u001b[0;34m\u001b[0m\u001b[0m\n\u001b[0;32m---> 14\u001b[0;31m \u001b[0mqc\u001b[0m \u001b[0;34m=\u001b[0m \u001b[0mQuantumCircuit\u001b[0m\u001b[0;34m(\u001b[0m\u001b[0;36m4\u001b[0m\u001b[0;34m)\u001b[0m\u001b[0;34m\u001b[0m\u001b[0;34m\u001b[0m\u001b[0m\n\u001b[0m\u001b[1;32m     15\u001b[0m \u001b[0mqft_rotations\u001b[0m\u001b[0;34m(\u001b[0m\u001b[0mqc\u001b[0m\u001b[0;34m,\u001b[0m\u001b[0;36m4\u001b[0m\u001b[0;34m)\u001b[0m\u001b[0;34m\u001b[0m\u001b[0;34m\u001b[0m\u001b[0m\n\u001b[1;32m     16\u001b[0m \u001b[0mqc\u001b[0m\u001b[0;34m.\u001b[0m\u001b[0mdraw\u001b[0m\u001b[0;34m(\u001b[0m\u001b[0;34m)\u001b[0m\u001b[0;34m\u001b[0m\u001b[0;34m\u001b[0m\u001b[0m\n",
      "\u001b[0;31mNameError\u001b[0m: name 'QuantumCircuit' is not defined"
     ]
    }
   ],
   "source": []
  },
  {
   "cell_type": "code",
   "execution_count": null,
   "id": "c0a5facb-b69c-4929-94e9-e480cb8caf5a",
   "metadata": {},
   "outputs": [],
   "source": []
  }
 ],
 "metadata": {
  "kernelspec": {
   "display_name": "Python 3.8.14 ('venv': venv)",
   "language": "python",
   "name": "python3"
  },
  "language_info": {
   "codemirror_mode": {
    "name": "ipython",
    "version": 3
   },
   "file_extension": ".py",
   "mimetype": "text/x-python",
   "name": "python",
   "nbconvert_exporter": "python",
   "pygments_lexer": "ipython3",
   "version": "3.8.14"
  },
  "vscode": {
   "interpreter": {
    "hash": "d97561cbea191f42fc0da7357bb5840d779b5f08ecfe39e1c771b531ddc0d67c"
   }
  }
 },
 "nbformat": 4,
 "nbformat_minor": 5
}
